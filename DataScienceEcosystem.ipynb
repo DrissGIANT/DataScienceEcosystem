{
 "cells": [
  {
   "cell_type": "markdown",
   "id": "a4e882e1-b703-4460-85aa-c1e23d530ece",
   "metadata": {},
   "source": []
  },
  {
   "cell_type": "markdown",
   "id": "b038f22d-9352-4dc2-a04a-1c0a55f26d59",
   "metadata": {},
   "source": [
    "# Data Science Tools and Ecosystem"
   ]
  },
  {
   "cell_type": "markdown",
   "id": "da4fe968-c016-4122-92f0-b4e4bf3ee3cb",
   "metadata": {},
   "source": [
    "In this notebook, Data Science Tools and Ecosystem are summarized."
   ]
  },
  {
   "cell_type": "markdown",
   "id": "402904ba-33d7-43ad-8aaa-1bbeec307df8",
   "metadata": {},
   "source": [
    "**Objectives** :\n",
    "\n",
    "* List popular languages for Data Science\n",
    "* List of popular open source data science tools\n",
    "* Introduction to Machine Learning and Deep Learning"
   ]
  },
  {
   "cell_type": "markdown",
   "id": "63b0b5ea-1abe-4db7-bb9c-953ef66e3b1c",
   "metadata": {},
   "source": [
    "Some of the popular languages that Data Scientists use are:"
   ]
  },
  {
   "cell_type": "markdown",
   "id": "d6c0953a-f347-4678-80c4-25f95dc8a70f",
   "metadata": {},
   "source": [
    "1. Python\n",
    "2. R\n",
    "3. Scala\n",
    "4. Java\n",
    "5. Julia"
   ]
  },
  {
   "cell_type": "markdown",
   "id": "fd6b021d-dfc6-4b90-9b67-663c4224a96b",
   "metadata": {},
   "source": [
    "Some of the commonly used libraries used by Data Scientists include:"
   ]
  },
  {
   "cell_type": "markdown",
   "id": "ce22a6fd-6921-49fc-b4bf-6011418516c5",
   "metadata": {},
   "source": [
    "1. ggplot\n",
    "2. stringr\n",
    "3. plotly\n",
    "4. caret\n",
    "5. Lattice"
   ]
  },
  {
   "cell_type": "markdown",
   "id": "9a63d699-4b5b-4ff4-8b42-23d0b4eb9325",
   "metadata": {},
   "source": [
    "| Data Science Tools   |\n",
    "|---------|\n",
    "| Jupyter |\n",
    "| GitHub  |\n",
    "| RStudio |"
   ]
  },
  {
   "cell_type": "markdown",
   "id": "b1e26004-28fb-4859-bc2b-c0c23509136a",
   "metadata": {},
   "source": [
    "### Below are a few examples of evaluating arithmetic expressions in Python."
   ]
  },
  {
   "cell_type": "markdown",
   "id": "b6689e49-b016-4baf-9cea-0e0bfac17ff3",
   "metadata": {},
   "source": [
    "_This a simple arithmetic expression to mutiply then add integers_"
   ]
  },
  {
   "cell_type": "code",
   "execution_count": 25,
   "id": "51a60188-e54a-400a-83e4-0851955bd6b4",
   "metadata": {},
   "outputs": [
    {
     "data": {
      "text/plain": [
       "17"
      ]
     },
     "execution_count": 25,
     "metadata": {},
     "output_type": "execute_result"
    }
   ],
   "source": [
    "(3*4)+5"
   ]
  },
  {
   "cell_type": "markdown",
   "id": "20988abe-5cfc-4747-a210-195c0484c571",
   "metadata": {},
   "source": [
    "_This will convert 200 minutes to hours by diving by 60_"
   ]
  },
  {
   "cell_type": "code",
   "execution_count": 35,
   "id": "70bd6144-7202-40d4-97a9-732e70fc07ec",
   "metadata": {},
   "outputs": [
    {
     "name": "stdout",
     "output_type": "stream",
     "text": [
      "the number of hours is :  3.3\n"
     ]
    }
   ],
   "source": [
    "val = 200/60\n",
    "print(\"the number of hours is : \", round(val,1))"
   ]
  },
  {
   "cell_type": "markdown",
   "id": "1f9176e8-35b5-4e4c-a238-45d00b0fc714",
   "metadata": {},
   "source": [
    "## Author\n",
    "Idrissa Samba DIAWARA"
   ]
  }
 ],
 "metadata": {
  "kernelspec": {
   "display_name": "Python 3 (ipykernel)",
   "language": "python",
   "name": "python3"
  },
  "language_info": {
   "codemirror_mode": {
    "name": "ipython",
    "version": 3
   },
   "file_extension": ".py",
   "mimetype": "text/x-python",
   "name": "python",
   "nbconvert_exporter": "python",
   "pygments_lexer": "ipython3",
   "version": "3.11.4"
  }
 },
 "nbformat": 4,
 "nbformat_minor": 5
}
